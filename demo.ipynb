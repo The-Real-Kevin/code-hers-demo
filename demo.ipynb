{
 "cells": [
  {
   "cell_type": "markdown",
   "metadata": {
    "id": "zN9gfzPN3kj3"
   },
   "source": [
    "## Import Data"
   ]
  },
  {
   "cell_type": "code",
   "execution_count": 2,
   "metadata": {
    "id": "nUsNfwltIbeu"
   },
   "outputs": [
    {
     "name": "stdout",
     "output_type": "stream",
     "text": [
      "Folder 9. Train data copied: 70 files\n",
      "Folder 9. Test data copied: 20 files\n",
      "Folder 9. Validation data copied: 10 files\n",
      "Folder 0. Train data copied: 70 files\n",
      "Folder 0. Test data copied: 20 files\n",
      "Folder 0. Validation data copied: 10 files\n",
      "Folder 7. Train data copied: 70 files\n",
      "Folder 7. Test data copied: 20 files\n",
      "Folder 7. Validation data copied: 10 files\n",
      "Folder 6. Train data copied: 70 files\n",
      "Folder 6. Test data copied: 20 files\n",
      "Folder 6. Validation data copied: 10 files\n",
      "Folder 1. Train data copied: 70 files\n",
      "Folder 1. Test data copied: 20 files\n",
      "Folder 1. Validation data copied: 10 files\n",
      "Folder 8. Train data copied: 70 files\n",
      "Folder 8. Test data copied: 20 files\n",
      "Folder 8. Validation data copied: 10 files\n",
      "Folder 4. Train data copied: 70 files\n",
      "Folder 4. Test data copied: 20 files\n",
      "Folder 4. Validation data copied: 10 files\n",
      "Folder 3. Train data copied: 70 files\n",
      "Folder 3. Test data copied: 20 files\n",
      "Folder 3. Validation data copied: 10 files\n",
      "Folder 2. Train data copied: 70 files\n",
      "Folder 2. Test data copied: 20 files\n",
      "Folder 2. Validation data copied: 10 files\n",
      "Folder 5. Train data copied: 70 files\n",
      "Folder 5. Test data copied: 20 files\n",
      "Folder 5. Validation data copied: 10 files\n"
     ]
    }
   ],
   "source": [
    "import os\n",
    "import random\n",
    "import shutil\n",
    "\n",
    "def split_dir_to_train_test_val(directory=\"rawdataset/\",\n",
    "                                 train_size=0.7,\n",
    "                                 test_size=0.2,\n",
    "                                 val_size=0.1):\n",
    "    # Set random seed for reproducibility\n",
    "    rng = random.Random(42)\n",
    "\n",
    "    # Create output directories\n",
    "    output_dirs = [\"files/train\", \"files/test\", \"files/validation\"]\n",
    "    for output_dir in output_dirs:\n",
    "        os.makedirs(output_dir, exist_ok=True)\n",
    "        for i in range(10):\n",
    "            os.makedirs(os.path.join(output_dir, str(i)), exist_ok=True)\n",
    "\n",
    "    for root, folders, _ in os.walk(directory):\n",
    "        for folder in folders:\n",
    "            list_of_files = os.listdir(os.path.join(root, folder))\n",
    "            rng.shuffle(list_of_files)\n",
    "\n",
    "            # Split files into training, testing, and validation sets\n",
    "            total_files = len(list_of_files)\n",
    "            train_count = int(total_files * train_size)\n",
    "            test_count = int(total_files * test_size)\n",
    "            \n",
    "            train_files = list_of_files[:train_count]\n",
    "            test_files = list_of_files[train_count:train_count + test_count]\n",
    "            val_files = list_of_files[train_count + test_count:]\n",
    "\n",
    "            # Copy files to the respective directories\n",
    "            for one_file in train_files:\n",
    "                shutil.copy2(src=os.path.join(root, folder, one_file),\n",
    "                             dst=os.path.join(\"files/train\", folder, one_file))\n",
    "            print(f\"Folder {folder}. Train data copied: {len(train_files)} files\")\n",
    "\n",
    "            for one_file in test_files:\n",
    "                shutil.copy2(src=os.path.join(root, folder, one_file),\n",
    "                             dst=os.path.join(\"files/test\", folder, one_file))\n",
    "            print(f\"Folder {folder}. Test data copied: {len(test_files)} files\")\n",
    "\n",
    "            for one_file in val_files:\n",
    "                shutil.copy2(src=os.path.join(root, folder, one_file),\n",
    "                             dst=os.path.join(\"files/validation\", folder, one_file))\n",
    "            print(f\"Folder {folder}. Validation data copied: {len(val_files)} files\")\n",
    "\n",
    "# Call the function to split the images\n",
    "split_dir_to_train_test_val(directory=\"rawdataset/\",\n",
    "                            train_size=0.7,\n",
    "                            test_size=0.2,\n",
    "                            val_size=0.1)"
   ]
  },
  {
   "cell_type": "markdown",
   "metadata": {
    "id": "H3Lx9PW03qek"
   },
   "source": [
    "## Explore and visualize the data"
   ]
  },
  {
   "cell_type": "code",
   "execution_count": 3,
   "metadata": {
    "colab": {
     "base_uri": "https://localhost:8080/"
    },
    "id": "sDX9RfD_QO4R",
    "outputId": "04078562-da97-4853-ecd1-f1877483f28a"
   },
   "outputs": [
    {
     "data": {
      "text/plain": [
       "array(['.DS_Store', '0', '1', '2', '3', '4', '5', '6', '7', '8', '9'],\n",
       "      dtype='<U9')"
      ]
     },
     "execution_count": 3,
     "metadata": {},
     "output_type": "execute_result"
    }
   ],
   "source": [
    "# Using helper function get class names\n",
    "class_names = get_class_names_from_folder(directory=\"files/train/\")\n",
    "class_names"
   ]
  },
  {
   "cell_type": "code",
   "execution_count": 4,
   "metadata": {
    "colab": {
     "base_uri": "https://localhost:8080/"
    },
    "id": "xA6THv7QD_Du",
    "outputId": "86e5967d-e3ff-41db-8497-4e38dd51c4d4"
   },
   "outputs": [
    {
     "data": {
      "text/plain": [
       "11"
      ]
     },
     "execution_count": 4,
     "metadata": {},
     "output_type": "execute_result"
    }
   ],
   "source": [
    "len(class_names)"
   ]
  },
  {
   "cell_type": "code",
   "execution_count": 5,
   "metadata": {
    "colab": {
     "base_uri": "https://localhost:8080/",
     "height": 412
    },
    "id": "tyWz2P3L6x0m",
    "outputId": "88a3d2cb-3a98-4be0-c3af-1bdc956bc1d4"
   },
   "outputs": [
    {
     "data": {
      "image/png": "[encoded data removed]",
      "text/plain": [
       "<Figure size 640x480 with 1 Axes>"
      ]
     },
     "metadata": {},
     "output_type": "display_data"
    }
   ],
   "source": [
    "import matplotlib.pyplot as plt\n",
    "import matplotlib.image as mpimg\n",
    "\n",
    "import os\n",
    "import random\n",
    "\n",
    "def visualize_random_image(target_dir, target_class):\n",
    "  image_dir = target_dir + target_class\n",
    "  random_image = random.sample(os.listdir(image_dir), 1)\n",
    "\n",
    "  img = mpimg.imread(image_dir + \"/\" + random_image[0])\n",
    "  plt.imshow(img)\n",
    "  plt.title(target_class)\n",
    "\n",
    "visualize_random_image(\"files/test/\", \"0\")"
   ]
  },
  {
   "cell_type": "markdown",
   "metadata": {
    "id": "B7mD0SU138Bx"
   },
   "source": [
    "## Create datasets from directories"
   ]
  },
  {
   "cell_type": "code",
   "execution_count": 7,
   "metadata": {
    "colab": {
     "base_uri": "https://localhost:8080/"
    },
    "id": "56xva2C6V6j4",
    "outputId": "0e974cc7-b1c6-4749-e1d6-8bea19788ebf"
   },
   "outputs": [
    {
     "name": "stdout",
     "output_type": "stream",
     "text": [
      "Found 700 images belonging to 10 classes.\n",
      "Found 200 images belonging to 10 classes.\n",
      "Found 100 images belonging to 10 classes.\n"
     ]
    }
   ],
   "source": [
    "# Import libraries\n",
    "import tensorflow as tf\n",
    "from tensorflow.keras.preprocessing.image import ImageDataGenerator\n",
    "\n",
    "# Create ImageDataGenerators for training, testing, and validation\n",
    "train_datagen = ImageDataGenerator(rescale=1./255)\n",
    "test_datagen = ImageDataGenerator(rescale=1./255)\n",
    "val_datagen = ImageDataGenerator(rescale=1./255)\n",
    "\n",
    "# Load training data\n",
    "train_data = train_datagen.flow_from_directory(\n",
    "    directory=\"files/train\",\n",
    "    target_size=(240, 240),\n",
    "    batch_size=32,\n",
    "    class_mode=\"categorical\",\n",
    "    shuffle=True\n",
    ")\n",
    "\n",
    "# Load testing data\n",
    "test_data = test_datagen.flow_from_directory(\n",
    "    directory=\"files/test\",\n",
    "    target_size=(240, 240),\n",
    "    batch_size=32,\n",
    "    class_mode=\"categorical\",\n",
    "    shuffle=False\n",
    ")\n",
    "\n",
    "# Load validation data\n",
    "validation_data = val_datagen.flow_from_directory(\n",
    "    directory=\"files/validation\",\n",
    "    target_size=(240, 240),\n",
    "    batch_size=32,\n",
    "    class_mode=\"categorical\",\n",
    "    shuffle=False\n",
    ")"
   ]
  },
  {
   "cell_type": "markdown",
   "metadata": {
    "id": "4r43ljna3-PJ"
   },
   "source": [
    "## Create and fit the model"
   ]
  },
  {
   "cell_type": "code",
   "execution_count": 8,
   "metadata": {
    "colab": {
     "base_uri": "https://localhost:8080/"
    },
    "id": "3rt0vnmKLjjJ",
    "outputId": "8ea5baee-c128-4662-dafd-dbe17d4a5810"
   },
   "outputs": [
    {
     "name": "stdout",
     "output_type": "stream",
     "text": [
      "Found 700 images belonging to 10 classes.\n",
      "Found 200 images belonging to 10 classes.\n",
      "Found 100 images belonging to 10 classes.\n",
      "Epoch 1/3\n"
     ]
    },
    {
     "name": "stderr",
     "output_type": "stream",
     "text": [
      "/Library/Frameworks/Python.framework/Versions/3.11/lib/python3.11/site-packages/keras/src/layers/convolutional/base_conv.py:107: UserWarning: Do not pass an `input_shape`/`input_dim` argument to a layer. When using Sequential models, prefer using an `Input(shape)` object as the first layer in the model instead.\n",
      "  super().__init__(activity_regularizer=activity_regularizer, **kwargs)\n",
      "/Library/Frameworks/Python.framework/Versions/3.11/lib/python3.11/site-packages/keras/src/trainers/data_adapters/py_dataset_adapter.py:121: UserWarning: Your `PyDataset` class should call `super().__init__(**kwargs)` in its constructor. `**kwargs` can include `workers`, `use_multiprocessing`, `max_queue_size`. Do not pass these arguments to `fit()`, as they will be ignored.\n",
      "  self._warn_if_super_not_called()\n"
     ]
    },
    {
     "name": "stdout",
     "output_type": "stream",
     "text": [
      "\u001b[1m21/21\u001b[0m \u001b[32m━━━━━━━━━━━━━━━━━━━━\u001b[0m\u001b[37m\u001b[0m \u001b[1m4s\u001b[0m 145ms/step - accuracy: 0.1804 - loss: 3.0576 - val_accuracy: 0.9583 - val_loss: 0.8258\n",
      "Epoch 2/3\n",
      "\u001b[1m21/21\u001b[0m \u001b[32m━━━━━━━━━━━━━━━━━━━━\u001b[0m\u001b[37m\u001b[0m \u001b[1m0s\u001b[0m 1ms/step - accuracy: 0.9375 - loss: 0.8583 - val_accuracy: 0.7500 - val_loss: 1.0821\n",
      "Epoch 3/3\n"
     ]
    },
    {
     "name": "stderr",
     "output_type": "stream",
     "text": [
      "2025-03-15 00:55:18.967831: I tensorflow/core/framework/local_rendezvous.cc:404] Local rendezvous is aborting with status: OUT_OF_RANGE: End of sequence\n",
      "\t [[{{node IteratorGetNext}}]]\n",
      "/Library/Frameworks/Python.framework/Versions/3.11/lib/python3.11/contextlib.py:155: UserWarning: Your input ran out of data; interrupting training. Make sure that your dataset or generator can generate at least `steps_per_epoch * epochs` batches. You may need to use the `.repeat()` function when building your dataset.\n",
      "  self.gen.throw(typ, value, traceback)\n",
      "2025-03-15 00:55:18.980178: I tensorflow/core/framework/local_rendezvous.cc:404] Local rendezvous is aborting with status: OUT_OF_RANGE: End of sequence\n",
      "\t [[{{node IteratorGetNext}}]]\n"
     ]
    },
    {
     "name": "stdout",
     "output_type": "stream",
     "text": [
      "\u001b[1m21/21\u001b[0m \u001b[32m━━━━━━━━━━━━━━━━━━━━\u001b[0m\u001b[37m\u001b[0m \u001b[1m3s\u001b[0m 145ms/step - accuracy: 0.9585 - loss: 0.4443 - val_accuracy: 0.9792 - val_loss: 0.0981\n",
      "\u001b[1m7/7\u001b[0m \u001b[32m━━━━━━━━━━━━━━━━━━━━\u001b[0m\u001b[37m\u001b[0m \u001b[1m0s\u001b[0m 41ms/step - accuracy: 0.9735 - loss: 0.1155\n"
     ]
    },
    {
     "data": {
      "image/png": "[encoded data removed]",
      "text/plain": [
       "<Figure size 640x480 with 1 Axes>"
      ]
     },
     "metadata": {},
     "output_type": "display_data"
    }
   ],
   "source": [
    "# Import libraries\n",
    "import tensorflow as tf\n",
    "from tensorflow.keras.preprocessing.image import ImageDataGenerator\n",
    "\n",
    "# Create ImageDataGenerators for training, testing, and validation\n",
    "train_datagen = ImageDataGenerator(rescale=1./255)\n",
    "test_datagen = ImageDataGenerator(rescale=1./255)\n",
    "val_datagen = ImageDataGenerator(rescale=1./255)\n",
    "\n",
    "# Load training data\n",
    "train_data = train_datagen.flow_from_directory(\n",
    "    directory=\"files/train\",\n",
    "    target_size=(240, 240),\n",
    "    batch_size=32,\n",
    "    class_mode=\"categorical\",\n",
    "    shuffle=True\n",
    ")\n",
    "\n",
    "# Load testing data\n",
    "test_data = test_datagen.flow_from_directory(\n",
    "    directory=\"files/test\",\n",
    "    target_size=(240, 240),\n",
    "    batch_size=32,\n",
    "    class_mode=\"categorical\",\n",
    "    shuffle=False\n",
    ")\n",
    "\n",
    "# Load validation data\n",
    "validation_data = val_datagen.flow_from_directory(\n",
    "    directory=\"files/validation\",\n",
    "    target_size=(240, 240),\n",
    "    batch_size=32,\n",
    "    class_mode=\"categorical\",\n",
    "    shuffle=False\n",
    ")\n",
    "\n",
    "\"\"\"## Create and fit the model\"\"\"\n",
    "\n",
    "\n",
    "# Set random seed\n",
    "tf.random.set_seed(42)\n",
    "\n",
    "from tensorflow.keras.models import Sequential\n",
    "from tensorflow.keras.layers import Dense, Flatten, Conv2D, MaxPool2D\n",
    "from tensorflow.keras.optimizers import Adam\n",
    "\n",
    "# Create model\n",
    "model = Sequential([\n",
    "    Conv2D(16, 3, activation=\"relu\", input_shape=(240, 240, 3)),\n",
    "    MaxPool2D(pool_size=2),\n",
    "    Conv2D(16, 3, activation=\"relu\"),\n",
    "    MaxPool2D(pool_size=2),\n",
    "    Flatten(),\n",
    "    Dense(10, activation=\"softmax\")\n",
    "])\n",
    "\n",
    "\n",
    "\n",
    "\n",
    "# Compile the model\n",
    "model.compile(loss=\"categorical_crossentropy\",\n",
    "              optimizer=Adam(),\n",
    "              metrics=[\"accuracy\"])\n",
    "\n",
    "\n",
    "# Fit the model\n",
    "\n",
    "batch_sizes = 32\n",
    "epoch = 3\n",
    "trainsteps = (train_data.n//batch_sizes)\n",
    "valsteps = (validation_data.n//batch_sizes)\n",
    "\n",
    "history = model.fit(train_data,\n",
    "                    batch_size=batch_sizes,\n",
    "                    epochs=epoch,\n",
    "                    steps_per_epoch=trainsteps,\n",
    "                    validation_data=validation_data,\n",
    "                    validation_steps=valsteps)\n",
    "\n",
    "\n",
    "\n",
    "\n",
    "# Evaluate model\n",
    "\n",
    "\n",
    "model.evaluate(test_data)\n",
    "\n",
    "import pandas as pd\n",
    "\n",
    "pd.DataFrame(history.history).plot()\n",
    "\n",
    "model.save('my_model.keras')"
   ]
  },
  {
   "cell_type": "code",
   "execution_count": 9,
   "metadata": {
    "colab": {
     "base_uri": "https://localhost:8080/"
    },
    "id": "LANQrlTlWygQ",
    "outputId": "bfc41410-64a8-4e24-c19b-9cbba7bfeb0f"
   },
   "outputs": [
    {
     "name": "stdout",
     "output_type": "stream",
     "text": [
      "\u001b[1m1/1\u001b[0m \u001b[32m━━━━━━━━━━━━━━━━━━━━\u001b[0m\u001b[37m\u001b[0m \u001b[1m0s\u001b[0m 28ms/step\n",
      "Predicted Class Index: 0\n",
      "Predicted Class Label: 0\n"
     ]
    }
   ],
   "source": [
    "import tensorflow as tf\n",
    "from tensorflow.keras.preprocessing.image import load_img, img_to_array\n",
    "import numpy as np\n",
    "\n",
    "new_model = tf.keras.models.load_model('my_model.keras')\n",
    "\n",
    "image_path = 'files/test/0/0-094.png'  # Replace with the actual image path\n",
    "image = load_img(image_path, target_size=(240, 240))\n",
    "image_array = img_to_array(image)\n",
    "image_array = image_array / 255.0  # Normalize pixel values to [0, 1]\n",
    "image_array = np.expand_dims(image_array, axis=0)  # Add batch dimension\n",
    "\n",
    "\n",
    "# Make predictions using the loaded model\n",
    "predictions = new_model.predict(image_array)\n",
    "\n",
    "# Get the predicted class index\n",
    "predicted_class_index = np.argmax(predictions[0])\n",
    "\n",
    "# Print the predicted class index and corresponding class label\n",
    "print('Predicted Class Index:', predicted_class_index)\n",
    "\n",
    "# Assuming you have a list of class labels\n",
    "class_labels = ['0','1','2','3','4','5','6','7','8','9']  # Replace with your class labels\n",
    "predicted_class_label = class_labels[predicted_class_index]\n",
    "\n",
    "print('Predicted Class Label:', predicted_class_label)"
   ]
  },
  {
   "cell_type": "code",
   "execution_count": 10,
   "metadata": {},
   "outputs": [
    {
     "name": "stdout",
     "output_type": "stream",
     "text": [
      "\u001b[1m1/1\u001b[0m \u001b[32m━━━━━━━━━━━━━━━━━━━━\u001b[0m\u001b[37m\u001b[0m \u001b[1m0s\u001b[0m 148ms/step\n",
      "Predicted Class Index: 0\n",
      "Predicted Class Label: 0\n",
      "Prediction Confidence (%): 99.99839067459106\n",
      "[[0.23196614 0.08533695 0.08533768 0.08533741 0.08533697 0.08533703\n",
      "  0.08533695 0.08533695 0.08533702 0.08533695]]\n",
      "0.23196614\n"
     ]
    }
   ],
   "source": [
    "import tensorflow as tf\n",
    "from tensorflow.keras.preprocessing.image import load_img, img_to_array\n",
    "import numpy as np\n",
    "\n",
    "new_model = tf.keras.models.load_model('my_model.keras')\n",
    "\n",
    "image_path = 'files/test/0/0-094.png'  # Replace with the actual image path\n",
    "image = load_img(image_path, target_size=(240, 240))\n",
    "image_array = img_to_array(image)\n",
    "image_array = image_array / 255.0  # Normalize pixel values to [0, 1]\n",
    "image_array = np.expand_dims(image_array, axis=0)  # Add batch dimension\n",
    "\n",
    "# Make predictions using the loaded model\n",
    "predictions = new_model.predict(image_array)\n",
    "\n",
    "# Get the predicted class index\n",
    "predicted_class_index = np.argmax(predictions[0])\n",
    "\n",
    "# Get the confidence for the predicted class\n",
    "confidence = predictions[0][predicted_class_index] * 100  # Convert to percentage\n",
    "\n",
    "# Print the predicted class index, corresponding class label, and prediction confidence\n",
    "print('Predicted Class Index:', predicted_class_index)\n",
    "class_labels = ['0','1','2','3','4','5','6','7','8','9']  # Replace with your class labels\n",
    "predicted_class_label = class_labels[predicted_class_index]\n",
    "print('Predicted Class Label:', predicted_class_label)\n",
    "print('Prediction Confidence (%):', confidence)\n",
    "\n",
    "# Get softmax values for all categories\n",
    "softmax_output = tf.nn.softmax(predictions)\n",
    "\n",
    "# Convert softmax output to a numpy array for easier manipulation\n",
    "softmax_values = softmax_output.numpy()\n",
    "\n",
    "# Print softmax values for all categories\n",
    "print(softmax_values)\n",
    "print(softmax_values[0][predicted_class_index])"
   ]
  },
  {
   "cell_type": "code",
   "execution_count": null,
   "metadata": {},
   "outputs": [],
   "source": []
  },
  {
   "cell_type": "code",
   "execution_count": null,
   "metadata": {},
   "outputs": [],
   "source": []
  },
  {
   "cell_type": "code",
   "execution_count": null,
   "metadata": {},
   "outputs": [],
   "source": []
  },
  {
   "cell_type": "code",
   "execution_count": null,
   "metadata": {},
   "outputs": [],
   "source": []
  }
 ],
 "metadata": {
  "accelerator": "GPU",
  "colab": {
   "gpuType": "T4",
   "provenance": []
  },
  "kernelspec": {
   "display_name": "Python 3 (ipykernel)",
   "language": "python",
   "name": "python3"
  },
  "language_info": {
   "codemirror_mode": {
    "name": "ipython",
    "version": 3
   },
   "file_extension": ".py",
   "mimetype": "text/x-python",
   "name": "python",
   "nbconvert_exporter": "python",
   "pygments_lexer": "ipython3",
   "version": "3.11.3"
  }
 },
 "nbformat": 4,
 "nbformat_minor": 4
}
